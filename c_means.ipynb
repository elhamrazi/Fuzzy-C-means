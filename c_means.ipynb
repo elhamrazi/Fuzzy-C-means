{
  "nbformat": 4,
  "nbformat_minor": 0,
  "metadata": {
    "colab": {
      "name": "c_means.ipynb",
      "provenance": [],
      "authorship_tag": "ABX9TyOlQ+D5ItRoSukGp8ttjtwn"
    },
    "kernelspec": {
      "name": "python3",
      "display_name": "Python 3"
    },
    "language_info": {
      "name": "python"
    }
  },
  "cells": [
    {
      "cell_type": "code",
      "metadata": {
        "id": "aT3bydK3OAWg"
      },
      "source": [
        "import pandas as pd\n",
        "import numpy as np\n",
        "from matplotlib import pyplot as plt\n",
        "import random\n",
        "import math\n"
      ],
      "execution_count": null,
      "outputs": []
    },
    {
      "cell_type": "code",
      "metadata": {
        "colab": {
          "base_uri": "https://localhost:8080/"
        },
        "id": "iQMWWtDCOKqt",
        "outputId": "554a5719-9cec-4945-f9ef-244b0e5d615e"
      },
      "source": [
        "df = pd.read_csv('data4.csv', header=None)\n",
        "\n",
        "iter_num = 100\n",
        "n = len(df)\n",
        "m = 1.7 # fuzzy parameter\n",
        "print(df)\n",
        "\n"
      ],
      "execution_count": null,
      "outputs": [
        {
          "output_type": "stream",
          "text": [
            "            0         1         2\n",
            "0    0.861525  0.912571  0.845310\n",
            "1    0.886029  0.916529  0.854453\n",
            "2    0.551487  0.555786  0.460637\n",
            "3    0.714042  0.709085  0.748322\n",
            "4    0.707432  0.766896  0.790200\n",
            "..        ...       ...       ...\n",
            "445  0.524465  0.531196  0.523584\n",
            "446  0.731298  0.757877  0.726663\n",
            "447  0.728468  0.781775  0.748158\n",
            "448  0.936291  0.900743  0.844364\n",
            "449  0.778144  0.779430  0.791336\n",
            "\n",
            "[450 rows x 3 columns]\n"
          ],
          "name": "stdout"
        }
      ]
    },
    {
      "cell_type": "code",
      "metadata": {
        "id": "kid-T8yu1oT1"
      },
      "source": [
        "def calculate_distance(dim, x, y):\n",
        "  dist = 0\n",
        "  for i in range(dim):\n",
        "    dist += (x[i]-y[i])**2\n",
        "  return dist**0.5"
      ],
      "execution_count": null,
      "outputs": []
    },
    {
      "cell_type": "code",
      "metadata": {
        "id": "tsJi2f1LPz00"
      },
      "source": [
        "cols_num = len(df.columns)\n",
        "axis = []\n",
        "for i in range(cols_num):\n",
        "  l = list((df.iloc[:,i]))\n",
        "  axis.append(l)\n",
        "# print(axis)"
      ],
      "execution_count": null,
      "outputs": []
    },
    {
      "cell_type": "code",
      "metadata": {
        "id": "3Vqu6AcqPNhP"
      },
      "source": [
        "def set_matrices(c):\n",
        "  membership = np.zeros((df.shape[0], c))\n",
        "  data = df.to_numpy()\n",
        "  center = []\n",
        "  for j in range(c):\n",
        "    temp = []\n",
        "    for i in range(cols_num):\n",
        "      minimum = min(axis[i])\n",
        "      maximum = max(axis[i])\n",
        "      r = random.uniform(minimum, maximum)\n",
        "      temp.append(r)\n",
        "    center.append(temp)\n",
        "  print(center)\n",
        "  centroids = np.asarray(center)\n",
        "  return membership, centroids, data \n",
        "# set_matrices(3)\n",
        "\n"
      ],
      "execution_count": null,
      "outputs": []
    },
    {
      "cell_type": "code",
      "metadata": {
        "id": "ugQUhIOCTmob"
      },
      "source": [
        "def get_cost(c):\n",
        "  membership, centroid, features = set_matrices(c)\n",
        "  for num in range(iter_num):\n",
        "      for i in range(c):\n",
        "          x_a = 0\n",
        "          y_a = 0\n",
        "          z_a = 0\n",
        "          # k_a = 0\n",
        "          b = 0\n",
        "          for k in range(n):\n",
        "            u = 0\n",
        "            in_center = False\n",
        "            dist1 = calculate_distance(cols_num, features[k], centroid[i])\n",
        "            if dist1 == 0:\n",
        "                in_center = True\n",
        "\n",
        "            for j in range(c):\n",
        "                dist2 = calculate_distance(cols_num, features[k], centroid[j])\n",
        "                if dist2 != 0:\n",
        "                    u += (dist1/dist2)**(2/(m-1))\n",
        "            membership[k, i] = 1/u\n",
        "\n",
        "            if in_center:\n",
        "                membership[k, i] = 1\n",
        "                for j in range(c):\n",
        "                    if j != i:\n",
        "                        membership[k, j] = 0\n",
        "\n",
        "            for w in range(cols_num):\n",
        "                    ax[w] += (membership[k, i] ** m) * features[k, w]\n",
        "            b += membership[k, i]** m\n",
        "\n",
        "          for w in range(cols_num):\n",
        "                centroid[i, w] = ax[w] / b\n",
        "\n",
        "    #\n",
        "    # print(membership)\n",
        "    # print(centroid)\n",
        "\n",
        "  cost = 0\n",
        "  for j in range(n):\n",
        "      for i in range(c):\n",
        "          # dist = math.hypot(features[j, 0] - centroid[i, 0], features[j, 1] - centroid[i, 1], features[j, 2] - centroid[i, 2], features[j, 3] - centroid[i, 3])\n",
        "          dist = calculate_distance(cols_num, features[j], centroid[i])\n",
        "          cost += (membership[j, i]**m) * (dist**2)\n",
        "  \n",
        "  # colors = []\n",
        "  # for i in range(n):\n",
        "  #   closest = max(membership[i])\n",
        "  #   # print(closest)\n",
        "  #   colors.append(closest)\n",
        "  # plt.scatter(axis[0], axis[1], c=colors)\n",
        "  # cbar = plt.colorbar()\n",
        "  # cbar.set_label('membership')\n",
        "  # plt.scatter(centroid[:,0], centroid[:,1], color = 'black', marker='x') \n",
        "  # print(membership)\n",
        "  return cost\n"
      ],
      "execution_count": null,
      "outputs": []
    },
    {
      "cell_type": "code",
      "metadata": {
        "id": "r9EkeeIBUbSt"
      },
      "source": [
        "# for x in range(1, 10):\n",
        "#     print(get_cost(x))\n",
        "costs = []\n",
        "for x in range(1, 6):\n",
        "  costs.append(get_cost(x))\n",
        "# get_cost(3)\n",
        "\n",
        "plt.scatter([i for i in range(1, 6)], costs)\n",
        "plt.plot([i for i in range(1, 6)], costs)\n",
        "\n",
        "plt.grid()\n",
        "plt.xlabel('Values of C')\n",
        "plt.ylabel('Cost')\n",
        "plt.title('The Elbow Method')\n",
        "plt.show()\n",
        "\n",
        "\n",
        "\n"
      ],
      "execution_count": null,
      "outputs": []
    }
  ]
}